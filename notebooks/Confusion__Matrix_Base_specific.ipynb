{
 "cells": [
  {
   "cell_type": "markdown",
   "metadata": {
    "id": "k9IDSB0xHoyE"
   },
   "source": [
    "# PRECISE-QC — Basecalling Confusion Matrix and Base-specific Error Rates by Type Plot\n",
    "\n",
    "### The code was adapted from: KleistLab/nanopore_dRNAseq (https://github.com/KleistLab/nanopore_dRNAseq)\n",
    "\n",
    "This notebook builds and visualizes a **confusion matrix** of basecalling outcomes for sgRNA reads:\n",
    "\n",
    "- **Columns**: reference bases (**A, C, G, U**)\n",
    "- **Rows**: basecalled outcomes (**A, C, G, U, deleted**)\n",
    "- Matrix is **column-normalized** (per reference base), **log-transformed** for contrast, and annotated with **percentages**.\n",
    "\n",
    "Inputs:\n",
    "- `SAM` files (aligned with MD tags),\n",
    "- corresponding reference `FASTA` files."
   ]
  },
  {
   "cell_type": "markdown",
   "metadata": {
    "id": "GcapROi9H9Z9"
   },
   "source": [
    "## 0) Setup\n",
    "\n",
    "Required packages:\n",
    "\n",
    "- `numpy`, `matplotlib`, `seaborn` — plotting\n",
    "- `pysam` — SAM/FASTA parsing\n",
    "- `tqdm` — progress bar\n",
    "- `collections` — `defaultdict` for motif tallies\n",
    "\n",
    "If running on **Colab**, you may need to install them first:\n",
    "```bash\n",
    "!pip install numpy matplotlib seaborn pysam tqdm\n",
    "````\n"
   ]
  },
  {
   "cell_type": "code",
   "execution_count": 13,
   "metadata": {
    "colab": {
     "base_uri": "https://localhost:8080/"
    },
    "id": "iMUHJAf8OJu8",
    "outputId": "67a61218-6cdf-4214-c9f5-76c7c0edc99c"
   },
   "outputs": [
    {
     "name": "stdout",
     "output_type": "stream",
     "text": [
      "Requirement already satisfied: numpy in /usr/local/lib/python3.12/dist-packages (2.0.2)\n",
      "Requirement already satisfied: matplotlib in /usr/local/lib/python3.12/dist-packages (3.10.0)\n",
      "Requirement already satisfied: seaborn in /usr/local/lib/python3.12/dist-packages (0.13.2)\n",
      "Requirement already satisfied: pysam in /usr/local/lib/python3.12/dist-packages (0.23.3)\n",
      "Requirement already satisfied: tqdm in /usr/local/lib/python3.12/dist-packages (4.67.1)\n",
      "Requirement already satisfied: contourpy>=1.0.1 in /usr/local/lib/python3.12/dist-packages (from matplotlib) (1.3.3)\n",
      "Requirement already satisfied: cycler>=0.10 in /usr/local/lib/python3.12/dist-packages (from matplotlib) (0.12.1)\n",
      "Requirement already satisfied: fonttools>=4.22.0 in /usr/local/lib/python3.12/dist-packages (from matplotlib) (4.59.2)\n",
      "Requirement already satisfied: kiwisolver>=1.3.1 in /usr/local/lib/python3.12/dist-packages (from matplotlib) (1.4.9)\n",
      "Requirement already satisfied: packaging>=20.0 in /usr/local/lib/python3.12/dist-packages (from matplotlib) (25.0)\n",
      "Requirement already satisfied: pillow>=8 in /usr/local/lib/python3.12/dist-packages (from matplotlib) (11.3.0)\n",
      "Requirement already satisfied: pyparsing>=2.3.1 in /usr/local/lib/python3.12/dist-packages (from matplotlib) (3.2.3)\n",
      "Requirement already satisfied: python-dateutil>=2.7 in /usr/local/lib/python3.12/dist-packages (from matplotlib) (2.9.0.post0)\n",
      "Requirement already satisfied: pandas>=1.2 in /usr/local/lib/python3.12/dist-packages (from seaborn) (2.2.2)\n",
      "Requirement already satisfied: pytz>=2020.1 in /usr/local/lib/python3.12/dist-packages (from pandas>=1.2->seaborn) (2025.2)\n",
      "Requirement already satisfied: tzdata>=2022.7 in /usr/local/lib/python3.12/dist-packages (from pandas>=1.2->seaborn) (2025.2)\n",
      "Requirement already satisfied: six>=1.5 in /usr/local/lib/python3.12/dist-packages (from python-dateutil>=2.7->matplotlib) (1.17.0)\n"
     ]
    }
   ],
   "source": [
    "!pip install numpy matplotlib seaborn pysam tqdm\n",
    "import numpy as np\n",
    "import matplotlib.pyplot as plt\n",
    "import seaborn as sns\n",
    "import pysam\n",
    "from tqdm import tqdm\n",
    "from collections import defaultdict"
   ]
  },
  {
   "cell_type": "markdown",
   "metadata": {
    "id": "71guJ3wpIMcx"
   },
   "source": [
    "## 1) Inputs & Parameters\n",
    "\n",
    "- **`refs`**: maps each sample key to its **reference FASTA** (opened with `pysam.Fastafile`)\n",
    "- **`samfiles`**: maps each sample key to its **SAM** file path (aligned reads; include `--MD` during alignment)\n",
    "- **`samples`**: list of sample keys available for analysis\n",
    "\n",
    "Define each parameter below\n"
   ]
  },
  {
   "cell_type": "code",
   "execution_count": 9,
   "metadata": {
    "id": "BFjLgi6hP3Nw"
   },
   "outputs": [],
   "source": [
    "#@title EDIT and Run the paths to the references\n",
    "ref_1 = \"path/to/first_fasta_file\"\n",
    "ref_2 = \"path/to/second_fasta_file\"\n",
    "ref_3 = \"path/to/third_fasta_file\""
   ]
  },
  {
   "cell_type": "code",
   "execution_count": 10,
   "metadata": {
    "id": "oOLQzQ9pQQ1w"
   },
   "outputs": [],
   "source": [
    "#@title EDIT and Run the paths to SAM files\n",
    "sam_1 = \"path/to/first_sam_file\"\n",
    "sam_2 = \"path/to/second_sam_file\"\n",
    "sam_3 = \"path/to/third_sam_file\""
   ]
  },
  {
   "cell_type": "code",
   "execution_count": null,
   "metadata": {
    "id": "uWF1rw6GPXMQ"
   },
   "outputs": [],
   "source": [
    "#@title Run this cell to define the dictionary with references and sam files\n",
    "refs = {\n",
    "    \"first\": pysam.Fastafile(ref_1),\n",
    "    \"second\": pysam.Fastafile(ref_2),\n",
    "    \"third\": pysam.Fastafile(ref_3),\n",
    "\n",
    "}\n",
    "samfiles = {\n",
    "    \"first\": sam_1,\n",
    "    \"second\": sam_2,\n",
    "    \"third\": sam_3\n",
    "}\n"
   ]
  },
  {
   "cell_type": "markdown",
   "metadata": {
    "id": "gMQRUabhOg3s"
   },
   "source": [
    "## 2) Helper Functions\n",
    "\n",
    "- **`rev_compl`**: reverse-complement (DNA→RNA letters; `T`→`U`)\n",
    "- **`parse_samfile`**: load aligned reads from a SAM (skip unmapped)\n",
    "- **`get_homo_positions`**: find homopolymer positions\n",
    "- **`process_sample`**: filter reads by mapping quality & duplicates\n",
    "- **`analyze_reads`**: expand alignments to ref/query strings, build:\n",
    "  - confusion matrix (rows: A/C/G/U/deleted; cols: A/C/G/U ref)"
   ]
  },
  {
   "cell_type": "code",
   "execution_count": 16,
   "metadata": {
    "cellView": "form",
    "id": "5jcfFwabRMXt"
   },
   "outputs": [],
   "source": [
    "#@title RUN this cell to define helper functios\n",
    "motifs = ['GA', 'AG', 'GU', 'UG', 'GC', 'CG', 'AC', 'CA', 'AU','UA', 'UC', 'CU']\n",
    "\n",
    "\n",
    "motif_acc = {motif: defaultdict(int) for motif in motifs}\n",
    "base2index = {\"A\": 0, \"C\": 1, \"G\": 2, \"U\": 3, \"_\": 4}\n",
    "\n",
    "def rev_compl(seq):\n",
    "    trans = str.maketrans(\"ACGTUacgtu\", \"UGCAAugcaa\")\n",
    "    return seq.translate(trans)[::-1]\n",
    "\n",
    "def parse_samfile(samfile):\n",
    "    \"\"\"Parse a SAM file into a list of aligned reads\"\"\"\n",
    "    with pysam.AlignmentFile(samfile, \"r\") as sam:\n",
    "        return [aln for aln in sam if not aln.is_unmapped]\n",
    "\n",
    "def get_homo_positions(seq, min_len=3):\n",
    "    \"\"\"Return homopolymer positions in reference\"\"\"\n",
    "    homo_pos = set()\n",
    "    last_base = ''\n",
    "    count = 0\n",
    "    for i, base in enumerate(seq):\n",
    "        if base == last_base:\n",
    "            count += 1\n",
    "        else:\n",
    "            if count >= min_len:\n",
    "                for j in range(i - count, i):\n",
    "                    homo_pos.add(j)\n",
    "            count = 1\n",
    "        last_base = base\n",
    "    return homo_pos\n",
    "\n",
    "\n",
    "def process_sample(sample, sam_path, ref_fa, motif_acc, kmer_size=2, max_reads=100000):\n",
    "    reads = parse_samfile(sam_path)\n",
    "    confusion = np.zeros((5, 4), dtype=int)\n",
    "    err_dist = {\"ho_mis\": 0, \"ho_del\": 0, \"ho_ins\": 0, \"he_mis\": 0, \"he_del\": 0, \"he_ins\": 0}\n",
    "    filtered_reads = []\n",
    "    included = 0\n",
    "    skipped = 0\n",
    "\n",
    "    for aln in reads[:max_reads]:\n",
    "        if aln.mapping_quality < 50 or aln.is_duplicate:\n",
    "            skipped += 1\n",
    "            continue\n",
    "        filtered_reads.append(aln)\n",
    "        included += 1\n",
    "\n",
    "    return filtered_reads\n",
    "def analyze_reads(sample, reads, ref_fa, motif_acc):\n",
    "    confusion = np.zeros((5, 4), dtype=int)\n",
    "    err_dist = {\"ho_mis\": 0, \"ho_del\": 0, \"ho_ins\": 0, \"he_mis\": 0, \"he_del\": 0, \"he_ins\": 0}\n",
    "    skip_sites = {23, 24, 52, 53, 76, 77}\n",
    "\n",
    "    for aln in tqdm(reads, desc=f\"Processing {sample}\"):\n",
    "        query_seq = aln.query_sequence\n",
    "        if aln.is_reverse:\n",
    "            query_seq = rev_compl(query_seq)\n",
    "\n",
    "        cigar = aln.cigartuples\n",
    "        soft_clip_start = cigar[0][1] if cigar[0][0] == 4 else 0\n",
    "        soft_clip_end = cigar[-1][1] if cigar[-1][0] == 4 else 0\n",
    "        query_seq = query_seq[soft_clip_start: len(query_seq) - soft_clip_end]\n",
    "\n",
    "        ref_seq = ref_fa.fetch(aln.reference_name, aln.reference_start, aln.reference_end).upper().replace(\"T\", \"U\")\n",
    "        query_seq = query_seq.upper().replace(\"T\", \"U\")\n",
    "\n",
    "        ref_pos = aln.reference_start\n",
    "        query_pos = 0\n",
    "        ref_idx = 0\n",
    "        last_error = None\n",
    "        expanded_ref = []\n",
    "        expanded_query = []\n",
    "        insert_pos = {}\n",
    "\n",
    "        homo_pos = get_homo_positions(ref_seq)\n",
    "\n",
    "        for op, length in cigar:\n",
    "            if op == 0:  # Match or mismatch\n",
    "                for _ in range(length):\n",
    "                    if ref_pos in skip_sites:\n",
    "                        query_pos += 1\n",
    "                        ref_idx += 1\n",
    "                        ref_pos += 1\n",
    "                        continue\n",
    "\n",
    "                    r_base = ref_seq[ref_idx]\n",
    "                    q_base = query_seq[query_pos]\n",
    "\n",
    "                    if r_base != q_base:\n",
    "                        if not (r_base == \"U\" and q_base == \"C\" and ref_pos == 86):\n",
    "                            last_error = \"mismatch\"\n",
    "                    else:\n",
    "                        last_error = None\n",
    "\n",
    "                    expanded_ref.append(r_base)\n",
    "                    expanded_query.append(q_base)\n",
    "\n",
    "                    query_pos += 1\n",
    "                    ref_idx += 1\n",
    "                    ref_pos += 1\n",
    "\n",
    "            elif op == 1:  # Insertion relative to reference\n",
    "                insert_pos.setdefault(ref_pos - aln.reference_start, [])\n",
    "                insert_pos[ref_pos - aln.reference_start].append(query_seq[query_pos:query_pos + length])\n",
    "                query_pos += length\n",
    "                last_error = \"insertion\"\n",
    "\n",
    "            elif op == 2:  # Deletion\n",
    "                for _ in range(length):\n",
    "                    expanded_ref.append(ref_seq[ref_idx])\n",
    "                    expanded_query.append(\"_\")\n",
    "                    ref_idx += 1\n",
    "                    ref_pos += 1\n",
    "                last_error = \"deletion\"\n",
    "\n",
    "        expanded_ref = ''.join(expanded_ref)\n",
    "        expanded_query = ''.join(expanded_query)\n",
    "\n",
    "        for i in range(len(expanded_ref)):\n",
    "            r = expanded_ref[i]\n",
    "            q = expanded_query[i]\n",
    "            if r in base2index:\n",
    "                col = base2index[r]\n",
    "                row = base2index[q] if q in base2index else 4\n",
    "                confusion[row, col] += 1\n",
    "\n",
    "        for i in range(len(expanded_ref) - 1):\n",
    "            kmer = expanded_ref[i:i+2]\n",
    "            if kmer not in motif_acc:\n",
    "                continue\n",
    "            sample_kmer = expanded_query[i:i+2]\n",
    "            if \"_\" in sample_kmer:\n",
    "                err_dist[\"he_del\" if i not in homo_pos else \"ho_del\"] += 1\n",
    "            elif len(sample_kmer) == 2 and kmer != sample_kmer:\n",
    "                err_dist[\"he_mis\" if i not in homo_pos else \"ho_mis\"] += 1\n",
    "            motif_acc[kmer][sample_kmer] += 1\n",
    "\n",
    "        for ipos, ins_bases in insert_pos.items():\n",
    "            if 0 <= ipos - 1 < len(ref_seq):\n",
    "                motif = ref_seq[ipos - 1:ipos + 1]\n",
    "                if motif in motif_acc:\n",
    "                    err_dist[\"he_ins\" if ipos not in homo_pos else \"ho_ins\"] += 1\n",
    "                    for ins_seq in ins_bases:\n",
    "                        mutated = motif[0] + ins_seq + motif[1]\n",
    "                        motif_acc[motif][mutated] += 1\n",
    "\n",
    "    return confusion, err_dist"
   ]
  },
  {
   "cell_type": "markdown",
   "metadata": {
    "id": "ShzNV_i7PKo3"
   },
   "source": [
    "## 3) Run Analysis & Plot Heatmap\n",
    "\n",
    "1. Set the `samples`.\n",
    "2. Filter reads with `process_sample(...)`.\n",
    "3. Analyze with `analyze_reads(...)`.\n",
    "4. Normalize matrix by column, flip vertically to place **deleted** at bottom.\n",
    "5. Log-transform for visualization; annotate with percentages.\n",
    "6. Save PNG (transparent background) and/or display inline."
   ]
  },
  {
   "cell_type": "code",
   "execution_count": 11,
   "metadata": {
    "id": "dphGt9AAQd2C"
   },
   "outputs": [],
   "source": [
    "#@title EDIT and Run the names of the samples\n",
    "samples = [\"first\",\"second\", \"third\"]"
   ]
  },
  {
   "cell_type": "code",
   "execution_count": 15,
   "metadata": {
    "id": "sO7k0WhQRciF"
   },
   "outputs": [],
   "source": [
    "#@title Pick the sample from your list for plotting: Indicate the number in the list of the samples starting from zero\n",
    "\n",
    "\n",
    "s = 0 # change number here"
   ]
  },
  {
   "cell_type": "code",
   "execution_count": null,
   "metadata": {
    "id": "UeZWcfTESmAB"
   },
   "outputs": [],
   "source": [
    "#@title EDIT and Run the cell to define the names:\n",
    "\n",
    "# Title of the plot\n",
    "title_name = \"EDIT HERE\"\n",
    "\n",
    "# Plot name for saving\n",
    "plot_name = \"EDITHERE.png\"\n",
    "\n"
   ]
  },
  {
   "cell_type": "code",
   "execution_count": null,
   "metadata": {
    "cellView": "form",
    "id": "uUEQgIDXO9Eh"
   },
   "outputs": [],
   "source": [
    "#@title RUN this cell to plot the matrix\n",
    "sample = samples[s]\n",
    "filtered_reads = process_sample(sample, samfiles[sample], refs[sample], motif_acc)\n",
    "\n",
    "confusion, err_dist = analyze_reads(sample, filtered_reads, refs[sample], motif_acc)\n",
    "\n",
    "conf = confusion\n",
    "conf_norm = conf / np.sum(conf, axis=0, keepdims=True)\n",
    "conf_norm = np.flip(conf_norm, axis=0)\n",
    "\n",
    "# Log transform\n",
    "log_conf = -np.log(conf_norm + 1e-10)\n",
    "annot = np.round(conf_norm * 100, 1).astype(str) + \"%\"\n",
    "\n",
    "sns.set(rc={'figure.figsize': (10, 9)})\n",
    "sns.set_context(\"paper\", font_scale=3)\n",
    "\n",
    "sns.heatmap(log_conf, annot=annot, fmt='',\n",
    "            xticklabels=[\"A\", \"C\", \"G\", \"U\"],\n",
    "            yticklabels=np.flip([\"A\", \"C\", \"G\", \"U\", \"deleted\"]),\n",
    "            cmap=\"OrRd\", cbar=False, linewidths=0.5, linecolor='gray')\n",
    "\n",
    "plt.xlabel(\"Reference base\")\n",
    "plt.ylabel(\"Basecalled base\")\n",
    "plt.yticks(rotation=0)\n",
    "plt.title(title_name)\n",
    "plt.tight_layout()\n",
    "# plt.show()\n",
    "plt.savefig(plot_name, bbox_inches=\"tight\", transparent=True)"
   ]
  },
  {
   "cell_type": "markdown",
   "metadata": {
    "id": "trCWcDQfXz7a"
   },
   "source": [
    "## Base-specific Error Rates by Type Plot"
   ]
  },
  {
   "cell_type": "code",
   "execution_count": null,
   "metadata": {
    "id": "8QeQZAQ1X-Ep"
   },
   "outputs": [],
   "source": [
    "#@title EDIT and Run the cell to define the names:\n",
    "\n",
    "# Title of the plot\n",
    "title_name = \"EDIT HERE\"\n",
    "\n",
    "# Plot name for saving\n",
    "plot_name = \"EDITHERE.png\""
   ]
  },
  {
   "cell_type": "code",
   "execution_count": null,
   "metadata": {
    "id": "EpiHUMl0TDPy"
   },
   "outputs": [],
   "source": [
    "#@title RUN this cell to plot Base-specific Error Rates by Type\n",
    "\n",
    "\n",
    "def analyze_reads(sample, reads, ref_fa, motif_acc):\n",
    "    confusion = np.zeros((5, 4), dtype=int)\n",
    "\n",
    "    error_tuple = {\"A\": {\"insertion\": 0, \"deletion\": 0, \"mismatch\": 0},\n",
    "                   \"C\": {\"insertion\": 0, \"deletion\": 0, \"mismatch\": 0},\n",
    "                   \"U\": {\"insertion\": 0, \"deletion\": 0, \"mismatch\": 0},\n",
    "                   \"G\": {\"insertion\": 0, \"deletion\": 0, \"mismatch\": 0}}\n",
    "\n",
    "    err_dist = {\"ho_mis\": 0, \"ho_del\": 0, \"ho_ins\": 0, \"he_mis\": 0, \"he_del\": 0, \"he_ins\": 0}\n",
    "\n",
    "    for aln in tqdm(reads, desc=f\"Processing {sample}\"):\n",
    "        query_seq = aln.query_sequence\n",
    "        if aln.is_reverse:\n",
    "            query_seq = rev_compl(query_seq)\n",
    "\n",
    "        cigar = aln.cigartuples\n",
    "        soft_clip_start = cigar[0][1] if cigar[0][0] == 4 else 0\n",
    "        soft_clip_end = cigar[-1][1] if cigar[-1][0] == 4 else 0\n",
    "\n",
    "        query_seq = query_seq[soft_clip_start: len(query_seq) - soft_clip_end]\n",
    "        ref_seq = ref_fa.fetch(aln.reference_name, aln.reference_start, aln.reference_end).upper().replace(\"T\", \"U\")\n",
    "        query_seq = query_seq.upper().replace(\"T\", \"U\")\n",
    "        # print(ref_seq)\n",
    "\n",
    "        ref_pos = aln.reference_start\n",
    "        query_pos = 0\n",
    "        ref_idx = 0  # local index for ref_seq slicing\n",
    "        last_error = None  # to skip consecutive errors\n",
    "\n",
    "        for op, length in cigar:\n",
    "\n",
    "            if op == 0:  # Match or mismatch\n",
    "                for _ in range(length):\n",
    "                    r_base = ref_seq[ref_idx]\n",
    "                    q_base = query_seq[query_pos]\n",
    "                    if r_base != q_base:\n",
    "                        # print(\"Ref\", r_base, \"Query\", q_base)\n",
    "                        # print(query_seq[query_pos-1])\n",
    "                        # Skip mismatch: U -> C at absolute ref position 88\n",
    "                        if r_base == \"U\" and q_base == \"C\" and ref_pos == 86:\n",
    "                            pass\n",
    "\n",
    "                        elif last_error != \"mismatch\":\n",
    "\n",
    "                            prev_base = query_seq[query_pos - 1] if query_pos > 0 else None\n",
    "                            if prev_base in error_tuple:\n",
    "                                error_tuple[prev_base][\"mismatch\"] += 1\n",
    "                            last_error = \"mismatch\"\n",
    "                    else:\n",
    "                        last_error = None\n",
    "\n",
    "\n",
    "                    query_pos += 1\n",
    "                    ref_idx += 1\n",
    "                    ref_pos += 1\n",
    "\n",
    "\n",
    "            elif op == 1:  # Insertion\n",
    "                if last_error != \"insertion\":\n",
    "                    prev_base = query_seq[query_pos - 1] if query_pos > 0 else None\n",
    "                    if prev_base in error_tuple:\n",
    "                        error_tuple[prev_base][\"insertion\"] += 1\n",
    "                    last_error = \"insertion\"\n",
    "                query_pos += length  # skip all inserted bases\n",
    "\n",
    "            elif op == 2:  # Deletion\n",
    "                if last_error != \"deletion\":\n",
    "                    prev_base = query_seq[query_pos - 1] if query_pos > 0 else None\n",
    "                    if prev_base in error_tuple:\n",
    "                        error_tuple[prev_base][\"deletion\"] += 1\n",
    "                    last_error = \"deletion\"\n",
    "                ref_idx += length\n",
    "                ref_pos += length\n",
    "\n",
    "            else:\n",
    "                continue\n",
    "\n",
    "    return confusion, error_tuple\n",
    "reads = process_sample(sample, samfiles[sample], motif_acc, refs[sample])\n",
    "confusion, err_tuple= analyze_reads(sample, reads, refs[sample], motif_acc)\n",
    "\n",
    "reads = process_sample(sample, samfiles[sample], motif_acc, refs[sample])\n",
    "confusion, error_tuple= analyze_reads(sample, reads, refs[sample], motif_acc)\n",
    "\n",
    "bases = ['A', 'C', 'U', 'G']\n",
    "error_types = ['insertion', 'deletion', 'mismatch']\n",
    "\n",
    "total_errors = sum(\n",
    "    error_tuple[base][etype] for base in bases for etype in error_types\n",
    ")\n",
    "data = []\n",
    "for base in bases:\n",
    "    for etype in error_types:\n",
    "        rate = 100 * error_tuple[base][etype] / total_errors\n",
    "        data.append({\n",
    "            \"base\": base,\n",
    "            \"error_rate\": rate,\n",
    "            \"error_type\": etype\n",
    "        })\n",
    "\n",
    "df = pd.DataFrame(data)\n",
    "\n",
    "sns.set(rc={'figure.figsize': (10, 6)})\n",
    "sns.set_context(\"talk\", font_scale=1.1)\n",
    "sns.set_style(\"ticks\")\n",
    "\n",
    "sns.barplot(data=df, y=\"base\", x=\"error_rate\", hue=\"error_type\")\n",
    "# sns.despine()\n",
    "# plt.legend().remove()\n",
    "plt.xlabel(\"Error Rate (%)\")\n",
    "plt.ylabel(\"Base (before error)\")\n",
    "plt.title(title)\n",
    "plt.tight_layout()\n",
    "# plt.show()\n",
    "plt.savefig(plot_name, bbox_inches=\"tight\", transparent=True)"
   ]
  }
 ],
 "metadata": {
  "colab": {
   "provenance": []
  },
  "kernelspec": {
   "display_name": "Python 3 (ipykernel)",
   "language": "python",
   "name": "python3"
  },
  "language_info": {
   "codemirror_mode": {
    "name": "ipython",
    "version": 3
   },
   "file_extension": ".py",
   "mimetype": "text/x-python",
   "name": "python",
   "nbconvert_exporter": "python",
   "pygments_lexer": "ipython3",
   "version": "3.11.7"
  }
 },
 "nbformat": 4,
 "nbformat_minor": 4
}
