{
  "nbformat": 4,
  "nbformat_minor": 0,
  "metadata": {
    "colab": {
      "provenance": []
    },
    "kernelspec": {
      "name": "python3",
      "display_name": "Python 3"
    },
    "language_info": {
      "name": "python"
    }
  },
  "cells": [
    {
      "cell_type": "markdown",
      "source": [
        "# PRECISE-QC - Errors per full length read\n",
        "\n",
        "This notebook is designed to reproduce the plot to visually analyze the overlaying sequences results from multiple runs.\n",
        "\n",
        "\n",
        "The expected input files are the alignment files in the SAM format\n",
        "\n",
        "\n",
        "- Each curve represents the fraction of reads with a given number of total error events.\n",
        "- Error events are counted as:\n",
        "  - **Mismatches** (from `MD` tags),\n",
        "  - **Insertions** (`I` in CIGAR),\n",
        "  - **Deletions** (`D` in CIGAR).\n"
      ],
      "metadata": {
        "id": "JeMpX_MZu4W6"
      }
    },
    {
      "cell_type": "markdown",
      "source": [
        "## 0) Setup\n",
        "\n",
        "Required packages:\n",
        "- `pysam` — to parse SAM files\n",
        "- `numpy`- - to process the data\n",
        "- `matplotlib`  plot the results\n",
        "- `re`, `collections.Counter` (built-in)\n",
        "\n",
        "If using **Colab**, install libraries first:\n",
        "```bash\n",
        "\n",
        "!pip install pysam, matplotlib\n",
        "```"
      ],
      "metadata": {
        "id": "J0hPfMSawMUI"
      }
    },
    {
      "cell_type": "code",
      "source": [
        "#@title Run this cell to install the libraries\n",
        "!pip install pysam; matplotlib"
      ],
      "metadata": {
        "colab": {
          "base_uri": "https://localhost:8080/"
        },
        "id": "q-B7mnsyx5DP",
        "outputId": "5405e23d-8e1c-4617-96bc-e3dd6ccc5da6"
      },
      "execution_count": 9,
      "outputs": [
        {
          "output_type": "stream",
          "name": "stdout",
          "text": [
            "Requirement already satisfied: pysam in /usr/local/lib/python3.12/dist-packages (0.23.3)\n",
            "/bin/bash: line 1: matplotlib: command not found\n"
          ]
        }
      ]
    },
    {
      "cell_type": "code",
      "source": [
        "#@title EDIT this cell and run it to rovide the paths to the input .SAM files:\n",
        "\n",
        "file1 = \"/path/to/SAM_1\" # edit the path here\n",
        "file2 = \"/path/to/SAM_2\" # edit the path here\n",
        "file3 = \"/path/to/SAM_3\" # edit the path here"
      ],
      "metadata": {
        "id": "DmYPoJqWxd_s"
      },
      "execution_count": 11,
      "outputs": []
    },
    {
      "cell_type": "code",
      "source": [
        "#@title Run this cell to impot the libraries\n",
        "import pysam\n",
        "import re\n",
        "import numpy as np\n",
        "import matplotlib.pyplot as plt\n",
        "from collections import Counter"
      ],
      "metadata": {
        "id": "aA6aE4tfxAuR"
      },
      "execution_count": 10,
      "outputs": []
    },
    {
      "cell_type": "markdown",
      "source": [
        "## 1) Define Helper Functions\n",
        "\n",
        "We create two helper functions:\n",
        "- `count_mismatches_from_md(md)`: counts mismatches in the MD tag\n",
        "- `process_sam(filename)`: parses a SAM file and returns **per-read error counts**."
      ],
      "metadata": {
        "id": "foUwHIP2w3KS"
      }
    },
    {
      "cell_type": "code",
      "source": [
        "#@title Run this cell to define the functions\n",
        "\n",
        "def count_mismatches_from_md(md):\n",
        "    \"\"\"Count mismatches from MD tag (letters = mismatches).\"\"\"\n",
        "    md = re.sub(r\"\\^[A-Z]+\", \"\", md)   # remove deletions\n",
        "    return len(re.findall(r\"[A-Z]\", md))\n",
        "\n",
        "def process_sam(filename):\n",
        "    \"\"\"Return per-read error counts from a SAM file.\"\"\"\n",
        "    samfile = pysam.AlignmentFile(filename, \"r\")\n",
        "    error_counts = []\n",
        "\n",
        "    for read in samfile.fetch(until_eof=True):\n",
        "        if read.is_unmapped:\n",
        "            continue\n",
        "\n",
        "        # mismatches from MD tag\n",
        "        try:\n",
        "            md = read.get_tag(\"MD\")\n",
        "            mismatches = count_mismatches_from_md(md)\n",
        "        except KeyError:\n",
        "            mismatches = 0\n",
        "\n",
        "        cigar = read.cigarstring or \"\"\n",
        "\n",
        "        # insertion/deletion events (not bases)\n",
        "        insertions = cigar.count(\"I\")\n",
        "        deletions = cigar.count(\"D\")\n",
        "\n",
        "        total_errors = mismatches + insertions + deletions\n",
        "        error_counts.append(total_errors)\n",
        "\n",
        "    samfile.close()\n",
        "    return np.array(error_counts)\n",
        "#@title Run this cell to plot the overlaying sequences\n",
        "\n",
        "\n",
        "def plot_area_distributions(files, labels):\n",
        "    \"\"\"Plot filled line curves (like MATLAB area()).\"\"\"\n",
        "    plt.figure(figsize=(7,7))\n",
        "    colors = [\"#1f77b4\", \"#ff7f0e\", \"#2ca02c\"]  # blue, orange, green\n",
        "\n",
        "    for filename, label, color, alpha in zip(files, labels, colors, [0.3, 0.5, 0.3]):\n",
        "        error_counts = process_sam(filename)\n",
        "        total_reads = len(error_counts)\n",
        "\n",
        "        # Count number of reads for each error value\n",
        "        counts = Counter(error_counts)\n",
        "        xs = np.arange(0, max(counts.keys())+1)   # full x-range without gaps\n",
        "        ys = np.array([counts.get(x, 0) for x in xs]) / total_reads * 100  # %\n",
        "\n",
        "        # plot\n",
        "        plt.fill_between(xs, ys, alpha=alpha, color=color, label=label)\n",
        "        plt.plot(xs, ys, color=color, linewidth=0)\n",
        "\n",
        "    plt.xlabel(\"Number of Errors per Read\")\n",
        "    plt.ylabel(\"Reads (%)\")\n",
        "    plt.xlim(left=0, right=32)\n",
        "    plt.ylim(bottom=0, top=17)\n",
        "    plt.yticks([0, 5, 10, 15, 20])\n",
        "    plt.axis(\"square\")\n",
        "    plt.legend()\n",
        "    plt.tight_layout()\n",
        "    plt.show()\n",
        "\n",
        "\n"
      ],
      "metadata": {
        "id": "dqX8GBAWxHGj"
      },
      "execution_count": 15,
      "outputs": []
    },
    {
      "cell_type": "markdown",
      "source": [
        "We use `plot_area_distributions` to:\n",
        "- Count number of reads with each error count,\n",
        "- Normalize to **% of total reads**,\n",
        "- Plot filled line curves (like MATLAB `area` plots).\n",
        "\n",
        "\n",
        "Provide the names of the sequences below"
      ],
      "metadata": {
        "id": "uf9_V8qCxM-b"
      }
    },
    {
      "cell_type": "code",
      "source": [
        "#@title EDIT and Run this cell to assign the name of each sequence\n",
        "\n",
        "first_seq = \"EDIT_NAME_HERE\"\n",
        "second_seq = \"EDIT_NAME_HERE\"\n",
        "third_seq = \"EDIT_NAME_HERE\""
      ],
      "metadata": {
        "id": "veYElZ77vgoH"
      },
      "execution_count": 14,
      "outputs": []
    },
    {
      "cell_type": "code",
      "source": [
        "#@title Finally Run this cell to plot\n",
        "\n",
        "plot_area_distributions(\n",
        "    [file1, file2, file3],\n",
        "    [first_seq, second_seq, third_seq]\n",
        ")\n"
      ],
      "metadata": {
        "id": "k0CvakPnzDlg"
      },
      "execution_count": null,
      "outputs": []
    }
  ]
}